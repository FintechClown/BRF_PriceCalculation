{
  "nbformat": 4,
  "nbformat_minor": 0,
  "metadata": {
    "colab": {
      "name": "共整合 VAR.ipynb",
      "provenance": [],
      "collapsed_sections": [
        "jjlSOlL5HltZ"
      ],
      "toc_visible": true,
      "mount_file_id": "1CK_rleeg7gLoJ8_SVKSNoltZSfYYNlUK",
      "authorship_tag": "ABX9TyOY6VgPE+HZVHwAmfvxOAwm",
      "include_colab_link": true
    },
    "kernelspec": {
      "name": "python3",
      "display_name": "Python 3"
    },
    "language_info": {
      "name": "python"
    }
  },
  "cells": [
    {
      "cell_type": "markdown",
      "metadata": {
        "id": "view-in-github",
        "colab_type": "text"
      },
      "source": [
        "<a href=\"https://colab.research.google.com/github/ntust10733033/BRF_PriceCalculation/blob/master/%E5%85%B1%E6%95%B4%E5%90%88_VAR.ipynb\" target=\"_parent\"><img src=\"https://colab.research.google.com/assets/colab-badge.svg\" alt=\"Open In Colab\"/></a>"
      ]
    },
    {
      "cell_type": "code",
      "metadata": {
        "colab": {
          "base_uri": "https://localhost:8080/"
        },
        "id": "ibeGo92eM9Ik",
        "outputId": "9547865a-dcc2-4838-ca40-fd548dc9773d"
      },
      "source": [
        "!pip install arch"
      ],
      "execution_count": 254,
      "outputs": [
        {
          "output_type": "stream",
          "text": [
            "Requirement already satisfied: arch in /usr/local/lib/python3.7/dist-packages (4.19)\n",
            "Requirement already satisfied: pandas>=0.23 in /usr/local/lib/python3.7/dist-packages (from arch) (1.1.5)\n",
            "Requirement already satisfied: numpy>=1.14 in /usr/local/lib/python3.7/dist-packages (from arch) (1.19.5)\n",
            "Requirement already satisfied: cython>=0.29.14 in /usr/local/lib/python3.7/dist-packages (from arch) (0.29.23)\n",
            "Requirement already satisfied: statsmodels>=0.10 in /usr/local/lib/python3.7/dist-packages (from arch) (0.10.2)\n",
            "Requirement already satisfied: scipy>=1.2.3 in /usr/local/lib/python3.7/dist-packages (from arch) (1.6.3)\n",
            "Requirement already satisfied: property-cached>=1.6.4 in /usr/local/lib/python3.7/dist-packages (from arch) (1.6.4)\n",
            "Requirement already satisfied: pytz>=2017.2 in /usr/local/lib/python3.7/dist-packages (from pandas>=0.23->arch) (2018.9)\n",
            "Requirement already satisfied: python-dateutil>=2.7.3 in /usr/local/lib/python3.7/dist-packages (from pandas>=0.23->arch) (2.8.1)\n",
            "Requirement already satisfied: patsy>=0.4.0 in /usr/local/lib/python3.7/dist-packages (from statsmodels>=0.10->arch) (0.5.1)\n",
            "Requirement already satisfied: six>=1.5 in /usr/local/lib/python3.7/dist-packages (from python-dateutil>=2.7.3->pandas>=0.23->arch) (1.15.0)\n"
          ],
          "name": "stdout"
        }
      ]
    },
    {
      "cell_type": "code",
      "metadata": {
        "colab": {
          "base_uri": "https://localhost:8080/"
        },
        "id": "f0C9jYLHbm7f",
        "outputId": "b6a16827-493c-4a7d-ad32-b6f0c78880dc"
      },
      "source": [
        "!pip install scipy -U"
      ],
      "execution_count": 255,
      "outputs": [
        {
          "output_type": "stream",
          "text": [
            "Requirement already up-to-date: scipy in /usr/local/lib/python3.7/dist-packages (1.6.3)\n",
            "Requirement already satisfied, skipping upgrade: numpy<1.23.0,>=1.16.5 in /usr/local/lib/python3.7/dist-packages (from scipy) (1.19.5)\n"
          ],
          "name": "stdout"
        }
      ]
    },
    {
      "cell_type": "code",
      "metadata": {
        "colab": {
          "base_uri": "https://localhost:8080/",
          "height": 376
        },
        "id": "Id7OOXps4dPa",
        "outputId": "d410e0a8-6c23-4d9f-85f6-c1a23dca2977"
      },
      "source": [
        "!pip install matplotlib -U"
      ],
      "execution_count": 256,
      "outputs": [
        {
          "output_type": "stream",
          "text": [
            "Collecting matplotlib\n",
            "\u001b[?25l  Downloading https://files.pythonhosted.org/packages/24/33/5568d443ba438d95d4db635dd69958056f087e57e1026bee56f959d53f9d/matplotlib-3.4.2-cp37-cp37m-manylinux1_x86_64.whl (10.3MB)\n",
            "\u001b[K     |████████████████████████████████| 10.3MB 5.3MB/s \n",
            "\u001b[?25hRequirement already satisfied, skipping upgrade: pillow>=6.2.0 in /usr/local/lib/python3.7/dist-packages (from matplotlib) (7.1.2)\n",
            "Requirement already satisfied, skipping upgrade: pyparsing>=2.2.1 in /usr/local/lib/python3.7/dist-packages (from matplotlib) (2.4.7)\n",
            "Requirement already satisfied, skipping upgrade: numpy>=1.16 in /usr/local/lib/python3.7/dist-packages (from matplotlib) (1.19.5)\n",
            "Requirement already satisfied, skipping upgrade: python-dateutil>=2.7 in /usr/local/lib/python3.7/dist-packages (from matplotlib) (2.8.1)\n",
            "Requirement already satisfied, skipping upgrade: kiwisolver>=1.0.1 in /usr/local/lib/python3.7/dist-packages (from matplotlib) (1.3.1)\n",
            "Requirement already satisfied, skipping upgrade: cycler>=0.10 in /usr/local/lib/python3.7/dist-packages (from matplotlib) (0.10.0)\n",
            "Requirement already satisfied, skipping upgrade: six>=1.5 in /usr/local/lib/python3.7/dist-packages (from python-dateutil>=2.7->matplotlib) (1.15.0)\n",
            "\u001b[31mERROR: albumentations 0.1.12 has requirement imgaug<0.2.7,>=0.2.5, but you'll have imgaug 0.2.9 which is incompatible.\u001b[0m\n",
            "Installing collected packages: matplotlib\n",
            "  Found existing installation: matplotlib 3.2.2\n",
            "    Uninstalling matplotlib-3.2.2:\n",
            "      Successfully uninstalled matplotlib-3.2.2\n",
            "Successfully installed matplotlib-3.4.2\n"
          ],
          "name": "stdout"
        },
        {
          "output_type": "display_data",
          "data": {
            "application/vnd.colab-display-data+json": {
              "pip_warning": {
                "packages": [
                  "matplotlib",
                  "mpl_toolkits"
                ]
              }
            }
          },
          "metadata": {
            "tags": []
          }
        }
      ]
    },
    {
      "cell_type": "code",
      "metadata": {
        "id": "lu8efRZhYCSJ"
      },
      "source": [
        "import matplotlib.pyplot as plt\n",
        "import matplotlib.mlab as mlab"
      ],
      "execution_count": 257,
      "outputs": []
    },
    {
      "cell_type": "code",
      "metadata": {
        "id": "685e0UBy5wv0"
      },
      "source": [
        "import seaborn as sns"
      ],
      "execution_count": 277,
      "outputs": []
    },
    {
      "cell_type": "code",
      "metadata": {
        "id": "M0Yk51lqYw3R"
      },
      "source": [
        "import pandas as pd"
      ],
      "execution_count": 258,
      "outputs": []
    },
    {
      "cell_type": "code",
      "metadata": {
        "id": "j2KZUGG4LRgl"
      },
      "source": [
        "from arch.unitroot import ADF,KPSS\n",
        "import numpy as np"
      ],
      "execution_count": 259,
      "outputs": []
    },
    {
      "cell_type": "code",
      "metadata": {
        "id": "6A2QjwjHZiE5"
      },
      "source": [
        "from scipy import stats"
      ],
      "execution_count": 260,
      "outputs": []
    },
    {
      "cell_type": "code",
      "metadata": {
        "id": "RDjkg8diY0Cn"
      },
      "source": [
        "df = pd.read_csv(\"/content/drive/MyDrive/Colab Notebooks/BRF_RawData/df_2mon.csv\",encoding='big5')"
      ],
      "execution_count": 261,
      "outputs": []
    },
    {
      "cell_type": "code",
      "metadata": {
        "colab": {
          "base_uri": "https://localhost:8080/",
          "height": 419
        },
        "id": "-uGqYYzQMc4Y",
        "outputId": "c7486d47-6baf-485f-8338-a265bbd7d73d"
      },
      "source": [
        "df"
      ],
      "execution_count": 262,
      "outputs": [
        {
          "output_type": "execute_result",
          "data": {
            "text/html": [
              "<div>\n",
              "<style scoped>\n",
              "    .dataframe tbody tr th:only-of-type {\n",
              "        vertical-align: middle;\n",
              "    }\n",
              "\n",
              "    .dataframe tbody tr th {\n",
              "        vertical-align: top;\n",
              "    }\n",
              "\n",
              "    .dataframe thead th {\n",
              "        text-align: right;\n",
              "    }\n",
              "</style>\n",
              "<table border=\"1\" class=\"dataframe\">\n",
              "  <thead>\n",
              "    <tr style=\"text-align: right;\">\n",
              "      <th></th>\n",
              "      <th>Unnamed: 0</th>\n",
              "      <th>交易日期</th>\n",
              "      <th>到期月份(週別)</th>\n",
              "      <th>收盤價</th>\n",
              "      <th>交易年分</th>\n",
              "      <th>原日期</th>\n",
              "      <th>到期年份(週別)</th>\n",
              "    </tr>\n",
              "  </thead>\n",
              "  <tbody>\n",
              "    <tr>\n",
              "      <th>0</th>\n",
              "      <td>0</td>\n",
              "      <td>7</td>\n",
              "      <td>9</td>\n",
              "      <td>2381.5</td>\n",
              "      <td>2018</td>\n",
              "      <td>2018-07-02</td>\n",
              "      <td>2018</td>\n",
              "    </tr>\n",
              "    <tr>\n",
              "      <th>1</th>\n",
              "      <td>5</td>\n",
              "      <td>7</td>\n",
              "      <td>9</td>\n",
              "      <td>2377.0</td>\n",
              "      <td>2018</td>\n",
              "      <td>2018-07-03</td>\n",
              "      <td>2018</td>\n",
              "    </tr>\n",
              "    <tr>\n",
              "      <th>2</th>\n",
              "      <td>10</td>\n",
              "      <td>7</td>\n",
              "      <td>9</td>\n",
              "      <td>2381.5</td>\n",
              "      <td>2018</td>\n",
              "      <td>2018-07-04</td>\n",
              "      <td>2018</td>\n",
              "    </tr>\n",
              "    <tr>\n",
              "      <th>3</th>\n",
              "      <td>15</td>\n",
              "      <td>7</td>\n",
              "      <td>9</td>\n",
              "      <td>2369.5</td>\n",
              "      <td>2018</td>\n",
              "      <td>2018-07-05</td>\n",
              "      <td>2018</td>\n",
              "    </tr>\n",
              "    <tr>\n",
              "      <th>4</th>\n",
              "      <td>20</td>\n",
              "      <td>7</td>\n",
              "      <td>9</td>\n",
              "      <td>2361.0</td>\n",
              "      <td>2018</td>\n",
              "      <td>2018-07-06</td>\n",
              "      <td>2018</td>\n",
              "    </tr>\n",
              "    <tr>\n",
              "      <th>...</th>\n",
              "      <td>...</td>\n",
              "      <td>...</td>\n",
              "      <td>...</td>\n",
              "      <td>...</td>\n",
              "      <td>...</td>\n",
              "      <td>...</td>\n",
              "      <td>...</td>\n",
              "    </tr>\n",
              "    <tr>\n",
              "      <th>594</th>\n",
              "      <td>3074</td>\n",
              "      <td>12</td>\n",
              "      <td>2</td>\n",
              "      <td>1384.0</td>\n",
              "      <td>2020</td>\n",
              "      <td>2020-12-23</td>\n",
              "      <td>2021</td>\n",
              "    </tr>\n",
              "    <tr>\n",
              "      <th>595</th>\n",
              "      <td>3079</td>\n",
              "      <td>12</td>\n",
              "      <td>2</td>\n",
              "      <td>1449.0</td>\n",
              "      <td>2020</td>\n",
              "      <td>2020-12-24</td>\n",
              "      <td>2021</td>\n",
              "    </tr>\n",
              "    <tr>\n",
              "      <th>596</th>\n",
              "      <td>3084</td>\n",
              "      <td>12</td>\n",
              "      <td>2</td>\n",
              "      <td>1427.5</td>\n",
              "      <td>2020</td>\n",
              "      <td>2020-12-25</td>\n",
              "      <td>2021</td>\n",
              "    </tr>\n",
              "    <tr>\n",
              "      <th>597</th>\n",
              "      <td>3089</td>\n",
              "      <td>12</td>\n",
              "      <td>2</td>\n",
              "      <td>1436.5</td>\n",
              "      <td>2020</td>\n",
              "      <td>2020-12-28</td>\n",
              "      <td>2021</td>\n",
              "    </tr>\n",
              "    <tr>\n",
              "      <th>598</th>\n",
              "      <td>3099</td>\n",
              "      <td>12</td>\n",
              "      <td>2</td>\n",
              "      <td>1444.0</td>\n",
              "      <td>2020</td>\n",
              "      <td>2020-12-30</td>\n",
              "      <td>2021</td>\n",
              "    </tr>\n",
              "  </tbody>\n",
              "</table>\n",
              "<p>599 rows × 7 columns</p>\n",
              "</div>"
            ],
            "text/plain": [
              "     Unnamed: 0  交易日期  到期月份(週別)     收盤價  交易年分         原日期  到期年份(週別)\n",
              "0             0     7         9  2381.5  2018  2018-07-02      2018\n",
              "1             5     7         9  2377.0  2018  2018-07-03      2018\n",
              "2            10     7         9  2381.5  2018  2018-07-04      2018\n",
              "3            15     7         9  2369.5  2018  2018-07-05      2018\n",
              "4            20     7         9  2361.0  2018  2018-07-06      2018\n",
              "..          ...   ...       ...     ...   ...         ...       ...\n",
              "594        3074    12         2  1384.0  2020  2020-12-23      2021\n",
              "595        3079    12         2  1449.0  2020  2020-12-24      2021\n",
              "596        3084    12         2  1427.5  2020  2020-12-25      2021\n",
              "597        3089    12         2  1436.5  2020  2020-12-28      2021\n",
              "598        3099    12         2  1444.0  2020  2020-12-30      2021\n",
              "\n",
              "[599 rows x 7 columns]"
            ]
          },
          "metadata": {
            "tags": []
          },
          "execution_count": 262
        }
      ]
    },
    {
      "cell_type": "code",
      "metadata": {
        "id": "xGXKKJWGZC5A"
      },
      "source": [
        "del df['Unnamed: 0']\n",
        "df.columns = ['交易月份','到期月份','收盤價','交易年分','原日期','到期年分']"
      ],
      "execution_count": 263,
      "outputs": []
    },
    {
      "cell_type": "code",
      "metadata": {
        "id": "tegLSfvyC8iR"
      },
      "source": [
        "df.index = df['原日期']"
      ],
      "execution_count": 264,
      "outputs": []
    },
    {
      "cell_type": "code",
      "metadata": {
        "id": "UFUYnKbZMzrw"
      },
      "source": [
        "df = df.drop(columns=['原日期'],axis=1)"
      ],
      "execution_count": 265,
      "outputs": []
    },
    {
      "cell_type": "code",
      "metadata": {
        "id": "2skHtwj8QR3x"
      },
      "source": [
        "df.index = pd.to_datetime(df.index)"
      ],
      "execution_count": 266,
      "outputs": []
    },
    {
      "cell_type": "code",
      "metadata": {
        "colab": {
          "base_uri": "https://localhost:8080/"
        },
        "id": "e1RHUQ_YPgIO",
        "outputId": "7625f3ce-0dfe-4310-da33-59fbd3676a4b"
      },
      "source": [
        "df['週別'] = df.index.week"
      ],
      "execution_count": 267,
      "outputs": [
        {
          "output_type": "stream",
          "text": [
            "/usr/local/lib/python3.7/dist-packages/ipykernel_launcher.py:1: FutureWarning: weekofyear and week have been deprecated, please use DatetimeIndex.isocalendar().week instead, which returns a Series.  To exactly reproduce the behavior of week and weekofyear and return an Index, you may call pd.Int64Index(idx.isocalendar().week)\n",
            "  \"\"\"Entry point for launching an IPython kernel.\n"
          ],
          "name": "stderr"
        }
      ]
    },
    {
      "cell_type": "code",
      "metadata": {
        "id": "PoyzPF3phRvZ"
      },
      "source": [
        "df = df.astype(str)"
      ],
      "execution_count": 268,
      "outputs": []
    },
    {
      "cell_type": "code",
      "metadata": {
        "colab": {
          "base_uri": "https://localhost:8080/",
          "height": 235
        },
        "id": "nZL-2xu9b_Cs",
        "outputId": "14912272-80ec-4c75-e79b-461ba2924d9f"
      },
      "source": [
        "df['week'] = df['交易年分'].map(str)+df['週別']\n",
        "df.head()"
      ],
      "execution_count": 269,
      "outputs": [
        {
          "output_type": "execute_result",
          "data": {
            "text/html": [
              "<div>\n",
              "<style scoped>\n",
              "    .dataframe tbody tr th:only-of-type {\n",
              "        vertical-align: middle;\n",
              "    }\n",
              "\n",
              "    .dataframe tbody tr th {\n",
              "        vertical-align: top;\n",
              "    }\n",
              "\n",
              "    .dataframe thead th {\n",
              "        text-align: right;\n",
              "    }\n",
              "</style>\n",
              "<table border=\"1\" class=\"dataframe\">\n",
              "  <thead>\n",
              "    <tr style=\"text-align: right;\">\n",
              "      <th></th>\n",
              "      <th>交易月份</th>\n",
              "      <th>到期月份</th>\n",
              "      <th>收盤價</th>\n",
              "      <th>交易年分</th>\n",
              "      <th>到期年分</th>\n",
              "      <th>週別</th>\n",
              "      <th>week</th>\n",
              "    </tr>\n",
              "    <tr>\n",
              "      <th>原日期</th>\n",
              "      <th></th>\n",
              "      <th></th>\n",
              "      <th></th>\n",
              "      <th></th>\n",
              "      <th></th>\n",
              "      <th></th>\n",
              "      <th></th>\n",
              "    </tr>\n",
              "  </thead>\n",
              "  <tbody>\n",
              "    <tr>\n",
              "      <th>2018-07-02</th>\n",
              "      <td>7</td>\n",
              "      <td>9</td>\n",
              "      <td>2381.5</td>\n",
              "      <td>2018</td>\n",
              "      <td>2018</td>\n",
              "      <td>27</td>\n",
              "      <td>201827</td>\n",
              "    </tr>\n",
              "    <tr>\n",
              "      <th>2018-07-03</th>\n",
              "      <td>7</td>\n",
              "      <td>9</td>\n",
              "      <td>2377.0</td>\n",
              "      <td>2018</td>\n",
              "      <td>2018</td>\n",
              "      <td>27</td>\n",
              "      <td>201827</td>\n",
              "    </tr>\n",
              "    <tr>\n",
              "      <th>2018-07-04</th>\n",
              "      <td>7</td>\n",
              "      <td>9</td>\n",
              "      <td>2381.5</td>\n",
              "      <td>2018</td>\n",
              "      <td>2018</td>\n",
              "      <td>27</td>\n",
              "      <td>201827</td>\n",
              "    </tr>\n",
              "    <tr>\n",
              "      <th>2018-07-05</th>\n",
              "      <td>7</td>\n",
              "      <td>9</td>\n",
              "      <td>2369.5</td>\n",
              "      <td>2018</td>\n",
              "      <td>2018</td>\n",
              "      <td>27</td>\n",
              "      <td>201827</td>\n",
              "    </tr>\n",
              "    <tr>\n",
              "      <th>2018-07-06</th>\n",
              "      <td>7</td>\n",
              "      <td>9</td>\n",
              "      <td>2361.0</td>\n",
              "      <td>2018</td>\n",
              "      <td>2018</td>\n",
              "      <td>27</td>\n",
              "      <td>201827</td>\n",
              "    </tr>\n",
              "  </tbody>\n",
              "</table>\n",
              "</div>"
            ],
            "text/plain": [
              "           交易月份 到期月份     收盤價  交易年分  到期年分  週別    week\n",
              "原日期                                                 \n",
              "2018-07-02    7    9  2381.5  2018  2018  27  201827\n",
              "2018-07-03    7    9  2377.0  2018  2018  27  201827\n",
              "2018-07-04    7    9  2381.5  2018  2018  27  201827\n",
              "2018-07-05    7    9  2369.5  2018  2018  27  201827\n",
              "2018-07-06    7    9  2361.0  2018  2018  27  201827"
            ]
          },
          "metadata": {
            "tags": []
          },
          "execution_count": 269
        }
      ]
    },
    {
      "cell_type": "code",
      "metadata": {
        "id": "H6sVG2kdCkDy",
        "colab": {
          "base_uri": "https://localhost:8080/",
          "height": 669
        },
        "outputId": "59d7bf65-4f5d-4017-ece0-fa3ed13b386a"
      },
      "source": [
        "#df.to_csv('週別.csv',encoding='big5')\n",
        "df.loc['2020-10']"
      ],
      "execution_count": 270,
      "outputs": [
        {
          "output_type": "execute_result",
          "data": {
            "text/html": [
              "<div>\n",
              "<style scoped>\n",
              "    .dataframe tbody tr th:only-of-type {\n",
              "        vertical-align: middle;\n",
              "    }\n",
              "\n",
              "    .dataframe tbody tr th {\n",
              "        vertical-align: top;\n",
              "    }\n",
              "\n",
              "    .dataframe thead th {\n",
              "        text-align: right;\n",
              "    }\n",
              "</style>\n",
              "<table border=\"1\" class=\"dataframe\">\n",
              "  <thead>\n",
              "    <tr style=\"text-align: right;\">\n",
              "      <th></th>\n",
              "      <th>交易月份</th>\n",
              "      <th>到期月份</th>\n",
              "      <th>收盤價</th>\n",
              "      <th>交易年分</th>\n",
              "      <th>到期年分</th>\n",
              "      <th>週別</th>\n",
              "      <th>week</th>\n",
              "    </tr>\n",
              "    <tr>\n",
              "      <th>原日期</th>\n",
              "      <th></th>\n",
              "      <th></th>\n",
              "      <th></th>\n",
              "      <th></th>\n",
              "      <th></th>\n",
              "      <th></th>\n",
              "      <th></th>\n",
              "    </tr>\n",
              "  </thead>\n",
              "  <tbody>\n",
              "    <tr>\n",
              "      <th>2020-10-05</th>\n",
              "      <td>10</td>\n",
              "      <td>12</td>\n",
              "      <td>1158.5</td>\n",
              "      <td>2020</td>\n",
              "      <td>2020</td>\n",
              "      <td>41</td>\n",
              "      <td>202041</td>\n",
              "    </tr>\n",
              "    <tr>\n",
              "      <th>2020-10-06</th>\n",
              "      <td>10</td>\n",
              "      <td>12</td>\n",
              "      <td>1187.0</td>\n",
              "      <td>2020</td>\n",
              "      <td>2020</td>\n",
              "      <td>41</td>\n",
              "      <td>202041</td>\n",
              "    </tr>\n",
              "    <tr>\n",
              "      <th>2020-10-07</th>\n",
              "      <td>10</td>\n",
              "      <td>12</td>\n",
              "      <td>1208.5</td>\n",
              "      <td>2020</td>\n",
              "      <td>2020</td>\n",
              "      <td>41</td>\n",
              "      <td>202041</td>\n",
              "    </tr>\n",
              "    <tr>\n",
              "      <th>2020-10-08</th>\n",
              "      <td>10</td>\n",
              "      <td>12</td>\n",
              "      <td>1206.5</td>\n",
              "      <td>2020</td>\n",
              "      <td>2020</td>\n",
              "      <td>41</td>\n",
              "      <td>202041</td>\n",
              "    </tr>\n",
              "    <tr>\n",
              "      <th>2020-10-12</th>\n",
              "      <td>10</td>\n",
              "      <td>12</td>\n",
              "      <td>1210.0</td>\n",
              "      <td>2020</td>\n",
              "      <td>2020</td>\n",
              "      <td>42</td>\n",
              "      <td>202042</td>\n",
              "    </tr>\n",
              "    <tr>\n",
              "      <th>2020-10-13</th>\n",
              "      <td>10</td>\n",
              "      <td>12</td>\n",
              "      <td>1197.0</td>\n",
              "      <td>2020</td>\n",
              "      <td>2020</td>\n",
              "      <td>42</td>\n",
              "      <td>202042</td>\n",
              "    </tr>\n",
              "    <tr>\n",
              "      <th>2020-10-14</th>\n",
              "      <td>10</td>\n",
              "      <td>12</td>\n",
              "      <td>1206.0</td>\n",
              "      <td>2020</td>\n",
              "      <td>2020</td>\n",
              "      <td>42</td>\n",
              "      <td>202042</td>\n",
              "    </tr>\n",
              "    <tr>\n",
              "      <th>2020-10-15</th>\n",
              "      <td>10</td>\n",
              "      <td>12</td>\n",
              "      <td>1242.0</td>\n",
              "      <td>2020</td>\n",
              "      <td>2020</td>\n",
              "      <td>42</td>\n",
              "      <td>202042</td>\n",
              "    </tr>\n",
              "    <tr>\n",
              "      <th>2020-10-16</th>\n",
              "      <td>10</td>\n",
              "      <td>12</td>\n",
              "      <td>1224.0</td>\n",
              "      <td>2020</td>\n",
              "      <td>2020</td>\n",
              "      <td>42</td>\n",
              "      <td>202042</td>\n",
              "    </tr>\n",
              "    <tr>\n",
              "      <th>2020-10-19</th>\n",
              "      <td>10</td>\n",
              "      <td>12</td>\n",
              "      <td>1227.5</td>\n",
              "      <td>2020</td>\n",
              "      <td>2020</td>\n",
              "      <td>43</td>\n",
              "      <td>202043</td>\n",
              "    </tr>\n",
              "    <tr>\n",
              "      <th>2020-10-20</th>\n",
              "      <td>10</td>\n",
              "      <td>12</td>\n",
              "      <td>1215.0</td>\n",
              "      <td>2020</td>\n",
              "      <td>2020</td>\n",
              "      <td>43</td>\n",
              "      <td>202043</td>\n",
              "    </tr>\n",
              "    <tr>\n",
              "      <th>2020-10-21</th>\n",
              "      <td>10</td>\n",
              "      <td>12</td>\n",
              "      <td>1223.5</td>\n",
              "      <td>2020</td>\n",
              "      <td>2020</td>\n",
              "      <td>43</td>\n",
              "      <td>202043</td>\n",
              "    </tr>\n",
              "    <tr>\n",
              "      <th>2020-10-22</th>\n",
              "      <td>10</td>\n",
              "      <td>12</td>\n",
              "      <td>1188.0</td>\n",
              "      <td>2020</td>\n",
              "      <td>2020</td>\n",
              "      <td>43</td>\n",
              "      <td>202043</td>\n",
              "    </tr>\n",
              "    <tr>\n",
              "      <th>2020-10-23</th>\n",
              "      <td>10</td>\n",
              "      <td>12</td>\n",
              "      <td>1217.0</td>\n",
              "      <td>2020</td>\n",
              "      <td>2020</td>\n",
              "      <td>43</td>\n",
              "      <td>202043</td>\n",
              "    </tr>\n",
              "    <tr>\n",
              "      <th>2020-10-26</th>\n",
              "      <td>10</td>\n",
              "      <td>12</td>\n",
              "      <td>1176.5</td>\n",
              "      <td>2020</td>\n",
              "      <td>2020</td>\n",
              "      <td>44</td>\n",
              "      <td>202044</td>\n",
              "    </tr>\n",
              "    <tr>\n",
              "      <th>2020-10-27</th>\n",
              "      <td>10</td>\n",
              "      <td>12</td>\n",
              "      <td>1163.0</td>\n",
              "      <td>2020</td>\n",
              "      <td>2020</td>\n",
              "      <td>44</td>\n",
              "      <td>202044</td>\n",
              "    </tr>\n",
              "    <tr>\n",
              "      <th>2020-10-28</th>\n",
              "      <td>10</td>\n",
              "      <td>12</td>\n",
              "      <td>1157.0</td>\n",
              "      <td>2020</td>\n",
              "      <td>2020</td>\n",
              "      <td>44</td>\n",
              "      <td>202044</td>\n",
              "    </tr>\n",
              "    <tr>\n",
              "      <th>2020-10-29</th>\n",
              "      <td>10</td>\n",
              "      <td>12</td>\n",
              "      <td>1118.0</td>\n",
              "      <td>2020</td>\n",
              "      <td>2020</td>\n",
              "      <td>44</td>\n",
              "      <td>202044</td>\n",
              "    </tr>\n",
              "    <tr>\n",
              "      <th>2020-10-30</th>\n",
              "      <td>10</td>\n",
              "      <td>12</td>\n",
              "      <td>1057.0</td>\n",
              "      <td>2020</td>\n",
              "      <td>2020</td>\n",
              "      <td>44</td>\n",
              "      <td>202044</td>\n",
              "    </tr>\n",
              "  </tbody>\n",
              "</table>\n",
              "</div>"
            ],
            "text/plain": [
              "           交易月份 到期月份     收盤價  交易年分  到期年分  週別    week\n",
              "原日期                                                 \n",
              "2020-10-05   10   12  1158.5  2020  2020  41  202041\n",
              "2020-10-06   10   12  1187.0  2020  2020  41  202041\n",
              "2020-10-07   10   12  1208.5  2020  2020  41  202041\n",
              "2020-10-08   10   12  1206.5  2020  2020  41  202041\n",
              "2020-10-12   10   12  1210.0  2020  2020  42  202042\n",
              "2020-10-13   10   12  1197.0  2020  2020  42  202042\n",
              "2020-10-14   10   12  1206.0  2020  2020  42  202042\n",
              "2020-10-15   10   12  1242.0  2020  2020  42  202042\n",
              "2020-10-16   10   12  1224.0  2020  2020  42  202042\n",
              "2020-10-19   10   12  1227.5  2020  2020  43  202043\n",
              "2020-10-20   10   12  1215.0  2020  2020  43  202043\n",
              "2020-10-21   10   12  1223.5  2020  2020  43  202043\n",
              "2020-10-22   10   12  1188.0  2020  2020  43  202043\n",
              "2020-10-23   10   12  1217.0  2020  2020  43  202043\n",
              "2020-10-26   10   12  1176.5  2020  2020  44  202044\n",
              "2020-10-27   10   12  1163.0  2020  2020  44  202044\n",
              "2020-10-28   10   12  1157.0  2020  2020  44  202044\n",
              "2020-10-29   10   12  1118.0  2020  2020  44  202044\n",
              "2020-10-30   10   12  1057.0  2020  2020  44  202044"
            ]
          },
          "metadata": {
            "tags": []
          },
          "execution_count": 270
        }
      ]
    },
    {
      "cell_type": "code",
      "metadata": {
        "id": "Lx8ZHl9eZCYh"
      },
      "source": [
        "#filter1 = df['交易月份']==1\n",
        "#filter2 = df['交易年分']==2019"
      ],
      "execution_count": 271,
      "outputs": []
    },
    {
      "cell_type": "code",
      "metadata": {
        "id": "syjoEEoz8NDJ"
      },
      "source": [
        "df['收盤價'] = df['收盤價'].astype(float)"
      ],
      "execution_count": 272,
      "outputs": []
    },
    {
      "cell_type": "code",
      "metadata": {
        "id": "4Itm4akGZVRP",
        "colab": {
          "base_uri": "https://localhost:8080/"
        },
        "outputId": "c5a0f100-e216-433a-a490-de3fafed2f27"
      },
      "source": [
        "#x = df[filter1 & filter2]['收盤價']\n",
        "x = df['2019-01':'2019-04']['收盤價']\n",
        "#x = df['2019-01']['收盤價']\n",
        "x\n",
        "#x = df[filter2]['收盤價']"
      ],
      "execution_count": 273,
      "outputs": [
        {
          "output_type": "execute_result",
          "data": {
            "text/plain": [
              "原日期\n",
              "2019-01-02    1630.0\n",
              "2019-01-03    1672.5\n",
              "2019-01-04    1725.5\n",
              "2019-01-07    1772.0\n",
              "2019-01-08    1766.5\n",
              "               ...  \n",
              "2019-04-24    2289.0\n",
              "2019-04-25    2301.0\n",
              "2019-04-26    2290.0\n",
              "2019-04-29    2217.5\n",
              "2019-04-30    2220.0\n",
              "Name: 收盤價, Length: 73, dtype: float64"
            ]
          },
          "metadata": {
            "tags": []
          },
          "execution_count": 273
        }
      ]
    },
    {
      "cell_type": "code",
      "metadata": {
        "id": "cpe-AJU4dZYo",
        "colab": {
          "base_uri": "https://localhost:8080/",
          "height": 282
        },
        "outputId": "de8788e4-3d41-4dd3-ab09-1c8bf3d349df"
      },
      "source": [
        "x.hist(bins=20,range=(1500,2500))\n"
      ],
      "execution_count": 274,
      "outputs": [
        {
          "output_type": "execute_result",
          "data": {
            "text/plain": [
              "<matplotlib.axes._subplots.AxesSubplot at 0x7f339572d550>"
            ]
          },
          "metadata": {
            "tags": []
          },
          "execution_count": 274
        },
        {
          "output_type": "display_data",
          "data": {
            "image/png": "[encoded data removed]",
            "text/plain": [
              "<Figure size 432x288 with 1 Axes>"
            ]
          },
          "metadata": {
            "tags": [],
            "needs_background": "light"
          }
        }
      ]
    },
    {
      "cell_type": "code",
      "metadata": {
        "id": "tfGOuJM93FMC"
      },
      "source": [
        "mrange_2018 = (1000,3000)\n",
        "mrange_2019 = (1500,2500)\n",
        "mrange_2020 = (0,2500)\n",
        "mbin = 30"
      ],
      "execution_count": 275,
      "outputs": []
    },
    {
      "cell_type": "code",
      "metadata": {
        "colab": {
          "base_uri": "https://localhost:8080/",
          "height": 757
        },
        "id": "E-cfSxCaxTNK",
        "outputId": "1cd6383d-8592-4ffa-f506-86f9a488a78d"
      },
      "source": [
        "#,sharex=True,sharey=True\n",
        "fig,axs = plt.subplots(nrows=2,ncols=5,figsize=(20,8))\n",
        "#axs[0,0].hist(df['2018-07':'2018-09']['收盤價'],density=True,bins=100,range=mrange_2018)\n",
        "axs[0,0].set_title(\"2018-07:2018-09\")\n",
        "sns.distplot(df['2018-07':'2018-09']['收盤價'],bins=10,ax=axs[0,0],color=\"dodgerblue\")\n",
        "axs[1,0].hist(df['2018-10':'2018-12']['收盤價'],bins=mbin,range=mrange_2018)\n",
        "axs[1,0].set_title(\"2018-10:2018-12\")\n",
        "axs[0,1].hist(df['2019-01':'2019-03']['收盤價'],bins=mbin,range=mrange_2019,color='green')\n",
        "axs[0,1].set_title(\"2019-01:2019-03\")\n",
        "axs[1,1].hist(df['2019-04':'2019-06']['收盤價'],bins=mbin,range=mrange_2019,color='green')\n",
        "axs[1,1].set_title(\"2019-04:2019-06\")\n",
        "axs[0,2].hist(df['2019-07':'2019-09']['收盤價'],bins=mbin,range=mrange_2019,color='green')\n",
        "axs[0,2].set_title(\"2019-07:2019-09\")\n",
        "axs[1,2].hist(df['2019-10':'2019-12']['收盤價'],bins=mbin,range=mrange_2019,color='green')\n",
        "axs[1,2].set_title(\"2019-10:2019-12\")\n",
        "axs[0,3].hist(df['2020-01':'2020-03']['收盤價'],bins=mbin,range=mrange_2020,color='orange')\n",
        "axs[0,3].set_title(\"2020-01:2010-03\")\n",
        "axs[1,3].hist(df['2020-04':'2020-06']['收盤價'],bins=mbin,range=mrange_2020,color='orange')\n",
        "axs[1,3].set_title(\"2020-04:2020-06\")\n",
        "axs[0,4].hist(df['2020-07':'2020-09']['收盤價'],bins=mbin,range=mrange_2020,color='orange')\n",
        "axs[0,4].set_title(\"2020-07:2020-09\")\n",
        "axs[1,4].hist(df['2020-10':'2020-12']['收盤價'],bins=mbin,range=mrange_2020,color='orange')\n",
        "axs[1,4].set_title(\"2020-10:2020-12\")"
      ],
      "execution_count": 289,
      "outputs": [
        {
          "output_type": "stream",
          "text": [
            "/usr/local/lib/python3.7/dist-packages/seaborn/distributions.py:2557: FutureWarning: `distplot` is a deprecated function and will be removed in a future version. Please adapt your code to use either `displot` (a figure-level function with similar flexibility) or `histplot` (an axes-level function for histograms).\n",
            "  warnings.warn(msg, FutureWarning)\n"
          ],
          "name": "stderr"
        },
        {
          "output_type": "execute_result",
          "data": {
            "text/plain": [
              "Text(0.5, 1.0, '2020-10:2020-12')"
            ]
          },
          "metadata": {
            "tags": []
          },
          "execution_count": 289
        },
        {
          "output_type": "stream",
          "text": [
            "/usr/local/lib/python3.7/dist-packages/matplotlib/backends/backend_agg.py:214: RuntimeWarning: Glyph 25910 missing from current font.\n",
            "  y = round(y + yo + yd)\n",
            "/usr/local/lib/python3.7/dist-packages/matplotlib/backends/backend_agg.py:214: RuntimeWarning: Glyph 30436 missing from current font.\n",
            "  y = round(y + yo + yd)\n",
            "/usr/local/lib/python3.7/dist-packages/matplotlib/backends/backend_agg.py:214: RuntimeWarning: Glyph 20729 missing from current font.\n",
            "  y = round(y + yo + yd)\n",
            "/usr/local/lib/python3.7/dist-packages/matplotlib/backends/backend_agg.py:183: RuntimeWarning: Glyph 25910 missing from current font.\n",
            "  \n",
            "/usr/local/lib/python3.7/dist-packages/matplotlib/backends/backend_agg.py:183: RuntimeWarning: Glyph 30436 missing from current font.\n",
            "  \n",
            "/usr/local/lib/python3.7/dist-packages/matplotlib/backends/backend_agg.py:183: RuntimeWarning: Glyph 20729 missing from current font.\n",
            "  \n"
          ],
          "name": "stderr"
        },
        {
          "output_type": "display_data",
          "data": {
            "image/png": "[encoded data removed]",
            "text/plain": [
              "<Figure size 1440x576 with 10 Axes>"
            ]
          },
          "metadata": {
            "tags": [],
            "needs_background": "light"
          }
        }
      ]
    },
    {
      "cell_type": "code",
      "metadata": {
        "id": "FKaDb3O57Km9"
      },
      "source": [
        "\n"
      ],
      "execution_count": null,
      "outputs": []
    },
    {
      "cell_type": "code",
      "metadata": {
        "id": "ayf8mDcAfW1P"
      },
      "source": [
        "y1 = df[df['交易年分']=='2018']['收盤價']\n",
        "y2 = df[df['交易年分']=='2019']['收盤價']\n",
        "y3 = df[df['交易年分']=='2020']['收盤價']"
      ],
      "execution_count": 198,
      "outputs": []
    },
    {
      "cell_type": "code",
      "metadata": {
        "colab": {
          "base_uri": "https://localhost:8080/",
          "height": 337
        },
        "id": "c7VWHIog9p8J",
        "outputId": "ddb025d0-af4e-496c-b50e-6e59e9164ae6"
      },
      "source": [
        "plt.hist([y1,y2,y3],bins=20,label=['2018','2019','2020'],density=True)\n",
        "plt.legend(loc='upper left')"
      ],
      "execution_count": 199,
      "outputs": [
        {
          "output_type": "stream",
          "text": [
            "/usr/local/lib/python3.7/dist-packages/numpy/core/_asarray.py:83: VisibleDeprecationWarning: Creating an ndarray from ragged nested sequences (which is a list-or-tuple of lists-or-tuples-or ndarrays with different lengths or shapes) is deprecated. If you meant to do this, you must specify 'dtype=object' when creating the ndarray\n",
            "  return array(a, dtype, copy=False, order=order)\n"
          ],
          "name": "stderr"
        },
        {
          "output_type": "execute_result",
          "data": {
            "text/plain": [
              "<matplotlib.legend.Legend at 0x7f339bf345d0>"
            ]
          },
          "metadata": {
            "tags": []
          },
          "execution_count": 199
        },
        {
          "output_type": "display_data",
          "data": {
            "image/png": "[encoded data removed]",
            "text/plain": [
              "<Figure size 432x288 with 1 Axes>"
            ]
          },
          "metadata": {
            "tags": [],
            "needs_background": "light"
          }
        }
      ]
    },
    {
      "cell_type": "markdown",
      "metadata": {
        "id": "najdmhvvpqv4"
      },
      "source": [
        "# 單根檢定"
      ]
    },
    {
      "cell_type": "code",
      "metadata": {
        "id": "D1gMuEwQCyvK"
      },
      "source": [
        "CPC_df = pd.read_excel(r\"/content/drive/MyDrive/Colab Notebooks/BRF_RawData/中油95_201807_202104.xlsx\")"
      ],
      "execution_count": 200,
      "outputs": []
    },
    {
      "cell_type": "code",
      "metadata": {
        "id": "hTaCaep6GR_L"
      },
      "source": [
        "CPC_df = CPC_df.iloc[:30]\n",
        "CPC_df = CPC_df['數值']"
      ],
      "execution_count": 201,
      "outputs": []
    },
    {
      "cell_type": "code",
      "metadata": {
        "id": "o8TPBepGGTIV"
      },
      "source": [
        "mon_df = pd.read_csv(r\"/content/drive/MyDrive/Colab Notebooks/BRF_RawData/BRF月均價 - 工作表1.csv\")\n"
      ],
      "execution_count": 202,
      "outputs": []
    },
    {
      "cell_type": "code",
      "metadata": {
        "id": "j_h9KHwpIWCX"
      },
      "source": [
        "mon_df = mon_df['每公升價格']"
      ],
      "execution_count": 203,
      "outputs": []
    },
    {
      "cell_type": "code",
      "metadata": {
        "colab": {
          "base_uri": "https://localhost:8080/"
        },
        "id": "WDiBoB9TnzpA",
        "outputId": "818ccd35-4fac-400c-e79b-cd3dcb34a79e"
      },
      "source": [
        "mon_df"
      ],
      "execution_count": 204,
      "outputs": [
        {
          "output_type": "execute_result",
          "data": {
            "text/plain": [
              "0     14.432399\n",
              "1     14.236166\n",
              "2     15.211208\n",
              "3     15.675209\n",
              "4     12.931279\n",
              "5     11.178790\n",
              "6     11.581039\n",
              "7     12.594620\n",
              "8     12.984685\n",
              "9     13.903295\n",
              "10    13.860026\n",
              "11    12.353363\n",
              "12    12.591343\n",
              "13    11.828485\n",
              "14    12.234344\n",
              "15    11.481750\n",
              "16    11.923329\n",
              "17    12.301205\n",
              "18    12.311181\n",
              "19    10.630607\n",
              "20     6.599584\n",
              "21     5.106068\n",
              "22     6.052370\n",
              "23     7.541011\n",
              "24     7.973155\n",
              "25     8.297833\n",
              "26     7.702445\n",
              "27     7.475605\n",
              "28     7.787534\n",
              "29     8.821609\n",
              "Name: 每公升價格, dtype: float64"
            ]
          },
          "metadata": {
            "tags": []
          },
          "execution_count": 204
        }
      ]
    },
    {
      "cell_type": "code",
      "metadata": {
        "id": "2vZyeQaN586f"
      },
      "source": [
        "mon_list=['2018-07','2018-08','2018-09','2018-10','2018-11','2018-12',\n",
        "          '2019-01','2019-02','2019-03','2019-04','2019-05','2019-06','2019-07','2019-08','2019-09','2019-10','2019-11','2019-12',\n",
        "          '2020-01','2020-02','2020-03','2020-04','2020-05','2020-06','2020-07','2020-08','2020-09','2020-10','2020-11','2020-12']\n"
      ],
      "execution_count": 205,
      "outputs": []
    },
    {
      "cell_type": "code",
      "metadata": {
        "id": "eW7EpOQ_JUyO"
      },
      "source": [
        "df = pd.concat([pd.DataFrame(mon_list),mon_df.rename('BRF'),CPC_df.rename('CPC95')],axis=1,ignore_index=True)"
      ],
      "execution_count": 206,
      "outputs": []
    },
    {
      "cell_type": "code",
      "metadata": {
        "id": "iVLqzToGJXT1"
      },
      "source": [
        "df.columns=['mon_list','BRF','CPC95']"
      ],
      "execution_count": 207,
      "outputs": []
    },
    {
      "cell_type": "code",
      "metadata": {
        "id": "uoMzDaK2qXJZ"
      },
      "source": [
        "df = df.set_index('mon_list')"
      ],
      "execution_count": 208,
      "outputs": []
    },
    {
      "cell_type": "code",
      "metadata": {
        "colab": {
          "base_uri": "https://localhost:8080/",
          "height": 235
        },
        "id": "28gYG7b1pxAX",
        "outputId": "68c46acf-8e3d-4408-ffc3-8309d42cb018"
      },
      "source": [
        "df.head(5)"
      ],
      "execution_count": 209,
      "outputs": [
        {
          "output_type": "execute_result",
          "data": {
            "text/html": [
              "<div>\n",
              "<style scoped>\n",
              "    .dataframe tbody tr th:only-of-type {\n",
              "        vertical-align: middle;\n",
              "    }\n",
              "\n",
              "    .dataframe tbody tr th {\n",
              "        vertical-align: top;\n",
              "    }\n",
              "\n",
              "    .dataframe thead th {\n",
              "        text-align: right;\n",
              "    }\n",
              "</style>\n",
              "<table border=\"1\" class=\"dataframe\">\n",
              "  <thead>\n",
              "    <tr style=\"text-align: right;\">\n",
              "      <th></th>\n",
              "      <th>BRF</th>\n",
              "      <th>CPC95</th>\n",
              "    </tr>\n",
              "    <tr>\n",
              "      <th>mon_list</th>\n",
              "      <th></th>\n",
              "      <th></th>\n",
              "    </tr>\n",
              "  </thead>\n",
              "  <tbody>\n",
              "    <tr>\n",
              "      <th>2018-07</th>\n",
              "      <td>14.432399</td>\n",
              "      <td>30.3</td>\n",
              "    </tr>\n",
              "    <tr>\n",
              "      <th>2018-08</th>\n",
              "      <td>14.236166</td>\n",
              "      <td>30.3</td>\n",
              "    </tr>\n",
              "    <tr>\n",
              "      <th>2018-09</th>\n",
              "      <td>15.211208</td>\n",
              "      <td>31.0</td>\n",
              "    </tr>\n",
              "    <tr>\n",
              "      <th>2018-10</th>\n",
              "      <td>15.675209</td>\n",
              "      <td>31.0</td>\n",
              "    </tr>\n",
              "    <tr>\n",
              "      <th>2018-11</th>\n",
              "      <td>12.931279</td>\n",
              "      <td>28.4</td>\n",
              "    </tr>\n",
              "  </tbody>\n",
              "</table>\n",
              "</div>"
            ],
            "text/plain": [
              "                BRF  CPC95\n",
              "mon_list                  \n",
              "2018-07   14.432399   30.3\n",
              "2018-08   14.236166   30.3\n",
              "2018-09   15.211208   31.0\n",
              "2018-10   15.675209   31.0\n",
              "2018-11   12.931279   28.4"
            ]
          },
          "metadata": {
            "tags": []
          },
          "execution_count": 209
        }
      ]
    },
    {
      "cell_type": "code",
      "metadata": {
        "id": "yeN7rdD4oiid"
      },
      "source": [
        "#df.to_csv('BRF_CPC95_每公升月均價.csv',encoding='big5')"
      ],
      "execution_count": 210,
      "outputs": []
    },
    {
      "cell_type": "code",
      "metadata": {
        "colab": {
          "base_uri": "https://localhost:8080/",
          "height": 297
        },
        "id": "aipytvj2Jojt",
        "outputId": "5cf619d7-b40d-499e-fdb2-d2ec98334235"
      },
      "source": [
        "df.plot()"
      ],
      "execution_count": 211,
      "outputs": [
        {
          "output_type": "execute_result",
          "data": {
            "text/plain": [
              "<matplotlib.axes._subplots.AxesSubplot at 0x7f339b649710>"
            ]
          },
          "metadata": {
            "tags": []
          },
          "execution_count": 211
        },
        {
          "output_type": "display_data",
          "data": {
            "image/png": "[encoded data removed]",
            "text/plain": [
              "<Figure size 432x288 with 1 Axes>"
            ]
          },
          "metadata": {
            "tags": [],
            "needs_background": "light"
          }
        }
      ]
    },
    {
      "cell_type": "markdown",
      "metadata": {
        "id": "4-zAk0z7fi3M"
      },
      "source": [
        "BRF跟中油95 (價格/公升)=>看起來趨勢一致\n"
      ]
    },
    {
      "cell_type": "code",
      "metadata": {
        "id": "gDrIz_NTNB6k"
      },
      "source": [
        "CPCf = df['CPC95']\n",
        "BRFf = df['BRF']"
      ],
      "execution_count": 212,
      "outputs": []
    },
    {
      "cell_type": "code",
      "metadata": {
        "id": "7uolLOgRNW9U"
      },
      "source": [
        "CPCf_log = np.log(CPCf)\n",
        "BRFf_log = np.log(BRFf) "
      ],
      "execution_count": 213,
      "outputs": []
    },
    {
      "cell_type": "code",
      "metadata": {
        "id": "NDZONx49Nk1E"
      },
      "source": [
        "adf_CPC = ADF(CPCf_log)\n",
        "adf_BRF = ADF(BRFf_log)"
      ],
      "execution_count": 214,
      "outputs": []
    },
    {
      "cell_type": "code",
      "metadata": {
        "colab": {
          "base_uri": "https://localhost:8080/"
        },
        "id": "tC789zxoN1f1",
        "outputId": "5af97ef9-0939-48dd-a7e8-32c48d772d56"
      },
      "source": [
        "print(adf_BRF.summary(),adf_CPC.summary())"
      ],
      "execution_count": 215,
      "outputs": [
        {
          "output_type": "stream",
          "text": [
            "   Augmented Dickey-Fuller Results   \n",
            "=====================================\n",
            "Test Statistic                 -1.481\n",
            "P-value                         0.543\n",
            "Lags                                2\n",
            "-------------------------------------\n",
            "\n",
            "Trend: Constant\n",
            "Critical Values: -3.70 (1%), -2.98 (5%), -2.63 (10%)\n",
            "Null Hypothesis: The process contains a unit root.\n",
            "Alternative Hypothesis: The process is weakly stationary.    Augmented Dickey-Fuller Results   \n",
            "=====================================\n",
            "Test Statistic                 -2.451\n",
            "P-value                         0.128\n",
            "Lags                                1\n",
            "-------------------------------------\n",
            "\n",
            "Trend: Constant\n",
            "Critical Values: -3.69 (1%), -2.97 (5%), -2.63 (10%)\n",
            "Null Hypothesis: The process contains a unit root.\n",
            "Alternative Hypothesis: The process is weakly stationary.\n"
          ],
          "name": "stdout"
        }
      ]
    },
    {
      "cell_type": "markdown",
      "metadata": {
        "id": "e29Jw5t5N52N"
      },
      "source": [
        "無法拒絕虛無假說=>存在單根=>兩者的對數價格皆為非定態，有一定的趨勢\n"
      ]
    },
    {
      "cell_type": "code",
      "metadata": {
        "id": "rp2gclx2QAE8"
      },
      "source": [
        "#要取[1:]是因為第一項不存在於前一項的差分，會變成NaN\n",
        "ret_CPC = CPCf_log.diff()[1:]\n",
        "ret_BRF = BRFf_log.diff()[1:]"
      ],
      "execution_count": 216,
      "outputs": []
    },
    {
      "cell_type": "code",
      "metadata": {
        "colab": {
          "base_uri": "https://localhost:8080/"
        },
        "id": "pQ0X30UhQvne",
        "outputId": "9fb661ff-d448-419b-8df7-f6a228a44693"
      },
      "source": [
        "adf_ret_CPC = ADF(ret_CPC)\n",
        "adf_ret_BRF = ADF(ret_BRF)\n",
        "print(adf_ret_BRF.summary(),adf_ret_CPC.summary())"
      ],
      "execution_count": 217,
      "outputs": [
        {
          "output_type": "stream",
          "text": [
            "   Augmented Dickey-Fuller Results   \n",
            "=====================================\n",
            "Test Statistic                 -4.776\n",
            "P-value                         0.000\n",
            "Lags                                1\n",
            "-------------------------------------\n",
            "\n",
            "Trend: Constant\n",
            "Critical Values: -3.70 (1%), -2.98 (5%), -2.63 (10%)\n",
            "Null Hypothesis: The process contains a unit root.\n",
            "Alternative Hypothesis: The process is weakly stationary.    Augmented Dickey-Fuller Results   \n",
            "=====================================\n",
            "Test Statistic                 -4.604\n",
            "P-value                         0.000\n",
            "Lags                                1\n",
            "-------------------------------------\n",
            "\n",
            "Trend: Constant\n",
            "Critical Values: -3.70 (1%), -2.98 (5%), -2.63 (10%)\n",
            "Null Hypothesis: The process contains a unit root.\n",
            "Alternative Hypothesis: The process is weakly stationary.\n"
          ],
          "name": "stdout"
        }
      ]
    },
    {
      "cell_type": "markdown",
      "metadata": {
        "id": "Y78pSzEshH78"
      },
      "source": [
        "拒絕虛無假說=>不存在單根=>兩者差分(一階整合序列)皆為定態"
      ]
    },
    {
      "cell_type": "code",
      "metadata": {
        "id": "3F2Ox20fRDO0",
        "colab": {
          "base_uri": "https://localhost:8080/",
          "height": 297
        },
        "outputId": "a0fbea04-a658-4982-a67c-0d943b87348b"
      },
      "source": [
        "ret_CPC.plot(label='CPC95',style='orange')\n",
        "ret_BRF.plot(label='BRF',style='blue')"
      ],
      "execution_count": 218,
      "outputs": [
        {
          "output_type": "execute_result",
          "data": {
            "text/plain": [
              "<matplotlib.axes._subplots.AxesSubplot at 0x7f339b5ba210>"
            ]
          },
          "metadata": {
            "tags": []
          },
          "execution_count": 218
        },
        {
          "output_type": "display_data",
          "data": {
            "image/png": "[encoded data removed]",
            "text/plain": [
              "<Figure size 432x288 with 1 Axes>"
            ]
          },
          "metadata": {
            "tags": [],
            "needs_background": "light"
          }
        }
      ]
    },
    {
      "cell_type": "markdown",
      "metadata": {
        "id": "jjlSOlL5HltZ"
      },
      "source": [
        "# 共整合\n",
        "在了解對數價格的差分序列是定態後，再來看是否存在共整合\n",
        "=>看兩者對數價格差是否為定態\n"
      ]
    },
    {
      "cell_type": "markdown",
      "metadata": {
        "id": "Zaf5PfqJIG3o"
      },
      "source": [
        "$log(P^Y_{t}) = \\alpha +\\beta \\space log(P^X_{t})+\\varepsilon_{t}$\n",
        "\n",
        "$\\rightarrow \\varepsilon_{t} = log(P^Y_{t})-\\alpha -\\beta \\space log(P^X_{t}) $\n",
        "\n",
        "檢定一下$\\varepsilon_{t}$是否為定態"
      ]
    },
    {
      "cell_type": "code",
      "metadata": {
        "id": "tdNguw2-ItDv"
      },
      "source": [
        "import statsmodels.api as sm"
      ],
      "execution_count": 219,
      "outputs": []
    },
    {
      "cell_type": "code",
      "metadata": {
        "colab": {
          "base_uri": "https://localhost:8080/"
        },
        "id": "-WIYtQ9wJxPQ",
        "outputId": "1088071b-7a1f-47e1-b345-12bd017bf5ec"
      },
      "source": [
        "model =sm.OLS(CPCf_log,sm.add_constant(BRFf_log))\n",
        "result = model.fit()\n",
        "print(result.summary())"
      ],
      "execution_count": 220,
      "outputs": [
        {
          "output_type": "stream",
          "text": [
            "                            OLS Regression Results                            \n",
            "==============================================================================\n",
            "Dep. Variable:                  CPC95   R-squared:                       0.954\n",
            "Model:                            OLS   Adj. R-squared:                  0.952\n",
            "Method:                 Least Squares   F-statistic:                     574.5\n",
            "Date:                Sun, 16 May 2021   Prob (F-statistic):           3.35e-20\n",
            "Time:                        10:14:08   Log-Likelihood:                 63.074\n",
            "No. Observations:                  30   AIC:                            -122.1\n",
            "Df Residuals:                      28   BIC:                            -119.3\n",
            "Df Model:                           1                                         \n",
            "Covariance Type:            nonrobust                                         \n",
            "==============================================================================\n",
            "                 coef    std err          t      P>|t|      [0.025      0.975]\n",
            "------------------------------------------------------------------------------\n",
            "const          2.1983      0.045     48.438      0.000       2.105       2.291\n",
            "BRF            0.4580      0.019     23.969      0.000       0.419       0.497\n",
            "==============================================================================\n",
            "Omnibus:                       10.044   Durbin-Watson:                   1.124\n",
            "Prob(Omnibus):                  0.007   Jarque-Bera (JB):                8.591\n",
            "Skew:                          -1.166   Prob(JB):                       0.0136\n",
            "Kurtosis:                       4.199   Cond. No.                         22.7\n",
            "==============================================================================\n",
            "\n",
            "Warnings:\n",
            "[1] Standard Errors assume that the covariance matrix of the errors is correctly specified.\n"
          ],
          "name": "stdout"
        }
      ]
    },
    {
      "cell_type": "code",
      "metadata": {
        "colab": {
          "base_uri": "https://localhost:8080/"
        },
        "id": "Msu7-HyEKiGX",
        "outputId": "cc50aa49-98fa-4e54-eb23-5072a46dc171"
      },
      "source": [
        "alpha,beta = result.params\n",
        "alpha,beta"
      ],
      "execution_count": 221,
      "outputs": [
        {
          "output_type": "execute_result",
          "data": {
            "text/plain": [
              "(2.1983454451516833, 0.4579678324923272)"
            ]
          },
          "metadata": {
            "tags": []
          },
          "execution_count": 221
        }
      ]
    },
    {
      "cell_type": "markdown",
      "metadata": {
        "id": "dZ0_n8Ogo5W_"
      },
      "source": [
        "$log(P^{中油95}_{t}) = 2.198 +0.458 \\space log(P^{BRF}_{t})+\\varepsilon_{t}$"
      ]
    },
    {
      "cell_type": "code",
      "metadata": {
        "id": "FZFvauJPKp-X",
        "colab": {
          "base_uri": "https://localhost:8080/"
        },
        "outputId": "b32b8567-7752-41c7-fba0-4144e3b5c236"
      },
      "source": [
        "spread = CPCf_log -beta*BRFf_log - alpha\n",
        "spread"
      ],
      "execution_count": 222,
      "outputs": [
        {
          "output_type": "execute_result",
          "data": {
            "text/plain": [
              "mon_list\n",
              "2018-07   -0.009732\n",
              "2018-08   -0.003462\n",
              "2018-09   -0.010962\n",
              "2018-10   -0.024723\n",
              "2018-11   -0.024193\n",
              "2018-12   -0.045792\n",
              "2019-01    0.008549\n",
              "2019-02   -0.033465\n",
              "2019-03   -0.012095\n",
              "2019-04   -0.002244\n",
              "2019-05    0.008801\n",
              "2019-06    0.007253\n",
              "2019-07   -0.001485\n",
              "2019-08    0.006010\n",
              "2019-09    0.008197\n",
              "2019-10    0.012492\n",
              "2019-11    0.012972\n",
              "2019-12    0.026463\n",
              "2020-01   -0.005215\n",
              "2020-02    0.014976\n",
              "2020-03   -0.081915\n",
              "2020-04   -0.077131\n",
              "2020-05    0.026379\n",
              "2020-06    0.033397\n",
              "2020-07    0.020562\n",
              "2020-08    0.010651\n",
              "2020-09    0.032171\n",
              "2020-10    0.037386\n",
              "2020-11    0.022911\n",
              "2020-12    0.043243\n",
              "dtype: float64"
            ]
          },
          "metadata": {
            "tags": []
          },
          "execution_count": 222
        }
      ]
    },
    {
      "cell_type": "code",
      "metadata": {
        "colab": {
          "base_uri": "https://localhost:8080/",
          "height": 282
        },
        "id": "ox4i6yrdK3zH",
        "outputId": "139206b0-c37e-4be4-cbac-f64e445d2a6f"
      },
      "source": [
        "plt.hist(spread)\n",
        "plt.xlim((-0.2,0.2))"
      ],
      "execution_count": 223,
      "outputs": [
        {
          "output_type": "execute_result",
          "data": {
            "text/plain": [
              "(-0.2, 0.2)"
            ]
          },
          "metadata": {
            "tags": []
          },
          "execution_count": 223
        },
        {
          "output_type": "display_data",
          "data": {
            "image/png": "[encoded data removed]",
            "text/plain": [
              "<Figure size 432x288 with 1 Axes>"
            ]
          },
          "metadata": {
            "tags": [],
            "needs_background": "light"
          }
        }
      ]
    },
    {
      "cell_type": "code",
      "metadata": {
        "colab": {
          "base_uri": "https://localhost:8080/"
        },
        "id": "vm3MjEc0xoJ2",
        "outputId": "56bb37f2-d41b-4287-d53a-5fd5301068de"
      },
      "source": [
        "stats.normaltest(spread)"
      ],
      "execution_count": 224,
      "outputs": [
        {
          "output_type": "execute_result",
          "data": {
            "text/plain": [
              "NormaltestResult(statistic=10.044316720859849, pvalue=0.00659028713280423)"
            ]
          },
          "metadata": {
            "tags": []
          },
          "execution_count": 224
        }
      ]
    },
    {
      "cell_type": "code",
      "metadata": {
        "colab": {
          "base_uri": "https://localhost:8080/"
        },
        "id": "OGVQGKJsK-pp",
        "outputId": "3458ee92-fce5-4510-db01-7454bfa68bbc"
      },
      "source": [
        "adfSpread = ADF(spread,trend='nc')\n",
        "print(adfSpread.summary())"
      ],
      "execution_count": 225,
      "outputs": [
        {
          "output_type": "stream",
          "text": [
            "   Augmented Dickey-Fuller Results   \n",
            "=====================================\n",
            "Test Statistic                 -3.194\n",
            "P-value                         0.001\n",
            "Lags                                0\n",
            "-------------------------------------\n",
            "\n",
            "Trend: No Trend\n",
            "Critical Values: -2.65 (1%), -1.95 (5%), -1.61 (10%)\n",
            "Null Hypothesis: The process contains a unit root.\n",
            "Alternative Hypothesis: The process is weakly stationary.\n"
          ],
          "name": "stdout"
        },
        {
          "output_type": "stream",
          "text": [
            "/usr/local/lib/python3.7/dist-packages/arch/unitroot/unitroot.py:470: FutureWarning: Trend \"nc\" is deprecated and has been replaced with \"n\" (for none).\n",
            "  FutureWarning,\n"
          ],
          "name": "stderr"
        }
      ]
    },
    {
      "cell_type": "markdown",
      "metadata": {
        "id": "dEOvHT99KEQv"
      },
      "source": [
        "拒絕虛無假說=>對數價格差存在定態，有共整合\n"
      ]
    },
    {
      "cell_type": "code",
      "metadata": {
        "id": "yIvYcbLcWyhy"
      },
      "source": [
        ""
      ],
      "execution_count": null,
      "outputs": []
    }
  ]
}