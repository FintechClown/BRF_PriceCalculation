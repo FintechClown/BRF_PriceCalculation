{
  "nbformat": 4,
  "nbformat_minor": 0,
  "metadata": {
    "colab": {
      "name": "共整合 VAR.ipynb",
      "provenance": [],
      "mount_file_id": "1CK_rleeg7gLoJ8_SVKSNoltZSfYYNlUK",
      "authorship_tag": "ABX9TyN5hjANFnNo9FXcRTnlMTO+",
      "include_colab_link": true
    },
    "kernelspec": {
      "name": "python3",
      "display_name": "Python 3"
    },
    "language_info": {
      "name": "python"
    }
  },
  "cells": [
    {
      "cell_type": "markdown",
      "metadata": {
        "id": "view-in-github",
        "colab_type": "text"
      },
      "source": [
        "<a href=\"https://colab.research.google.com/github/ntust10733033/BRF_PriceCalculation/blob/master/%E5%85%B1%E6%95%B4%E5%90%88_VAR.ipynb\" target=\"_parent\"><img src=\"https://colab.research.google.com/assets/colab-badge.svg\" alt=\"Open In Colab\"/></a>"
      ]
    },
    {
      "cell_type": "code",
      "metadata": {
        "colab": {
          "base_uri": "https://localhost:8080/"
        },
        "id": "ibeGo92eM9Ik",
        "outputId": "0f363452-7ab1-4eb4-eee7-87e9df6ddea7"
      },
      "source": [
        "!pip install arch"
      ],
      "execution_count": 179,
      "outputs": [
        {
          "output_type": "stream",
          "text": [
            "Requirement already satisfied: arch in /usr/local/lib/python3.7/dist-packages (4.19)\n",
            "Requirement already satisfied: pandas>=0.23 in /usr/local/lib/python3.7/dist-packages (from arch) (1.1.5)\n",
            "Requirement already satisfied: scipy>=1.2.3 in /usr/local/lib/python3.7/dist-packages (from arch) (1.6.3)\n",
            "Requirement already satisfied: cython>=0.29.14 in /usr/local/lib/python3.7/dist-packages (from arch) (0.29.22)\n",
            "Requirement already satisfied: numpy>=1.14 in /usr/local/lib/python3.7/dist-packages (from arch) (1.19.5)\n",
            "Requirement already satisfied: statsmodels>=0.10 in /usr/local/lib/python3.7/dist-packages (from arch) (0.10.2)\n",
            "Requirement already satisfied: property-cached>=1.6.4 in /usr/local/lib/python3.7/dist-packages (from arch) (1.6.4)\n",
            "Requirement already satisfied: python-dateutil>=2.7.3 in /usr/local/lib/python3.7/dist-packages (from pandas>=0.23->arch) (2.8.1)\n",
            "Requirement already satisfied: pytz>=2017.2 in /usr/local/lib/python3.7/dist-packages (from pandas>=0.23->arch) (2018.9)\n",
            "Requirement already satisfied: patsy>=0.4.0 in /usr/local/lib/python3.7/dist-packages (from statsmodels>=0.10->arch) (0.5.1)\n",
            "Requirement already satisfied: six>=1.5 in /usr/local/lib/python3.7/dist-packages (from python-dateutil>=2.7.3->pandas>=0.23->arch) (1.15.0)\n"
          ],
          "name": "stdout"
        }
      ]
    },
    {
      "cell_type": "code",
      "metadata": {
        "colab": {
          "base_uri": "https://localhost:8080/"
        },
        "id": "f0C9jYLHbm7f",
        "outputId": "4c7c9b9d-350e-487f-d9a0-54af0f3a2995"
      },
      "source": [
        "!pip install scipy -U"
      ],
      "execution_count": 180,
      "outputs": [
        {
          "output_type": "stream",
          "text": [
            "Requirement already up-to-date: scipy in /usr/local/lib/python3.7/dist-packages (1.6.3)\n",
            "Requirement already satisfied, skipping upgrade: numpy<1.23.0,>=1.16.5 in /usr/local/lib/python3.7/dist-packages (from scipy) (1.19.5)\n"
          ],
          "name": "stdout"
        }
      ]
    },
    {
      "cell_type": "code",
      "metadata": {
        "id": "lu8efRZhYCSJ"
      },
      "source": [
        "import matplotlib.pyplot as plt"
      ],
      "execution_count": 181,
      "outputs": []
    },
    {
      "cell_type": "code",
      "metadata": {
        "id": "M0Yk51lqYw3R"
      },
      "source": [
        "import pandas as pd"
      ],
      "execution_count": 182,
      "outputs": []
    },
    {
      "cell_type": "code",
      "metadata": {
        "id": "j2KZUGG4LRgl"
      },
      "source": [
        "from arch.unitroot import ADF,KPSS\n",
        "import numpy as np"
      ],
      "execution_count": 183,
      "outputs": []
    },
    {
      "cell_type": "code",
      "metadata": {
        "id": "6A2QjwjHZiE5"
      },
      "source": [
        "from scipy import stats"
      ],
      "execution_count": 184,
      "outputs": []
    },
    {
      "cell_type": "code",
      "metadata": {
        "id": "RDjkg8diY0Cn"
      },
      "source": [
        "df = pd.read_csv(\"/content/drive/MyDrive/Colab Notebooks/BRF_RawData/df_2mon.csv\",encoding='big5')"
      ],
      "execution_count": 185,
      "outputs": []
    },
    {
      "cell_type": "code",
      "metadata": {
        "id": "xGXKKJWGZC5A"
      },
      "source": [
        "del df['Unnamed: 0']\n",
        "df.columns = ['交易月份','到期月份','收盤價','交易年分','到期年分']"
      ],
      "execution_count": 186,
      "outputs": []
    },
    {
      "cell_type": "code",
      "metadata": {
        "colab": {
          "base_uri": "https://localhost:8080/",
          "height": 419
        },
        "id": "tegLSfvyC8iR",
        "outputId": "012decfe-0014-4711-ca2d-bb2aa687ae5f"
      },
      "source": [
        "df"
      ],
      "execution_count": 187,
      "outputs": [
        {
          "output_type": "execute_result",
          "data": {
            "text/html": [
              "<div>\n",
              "<style scoped>\n",
              "    .dataframe tbody tr th:only-of-type {\n",
              "        vertical-align: middle;\n",
              "    }\n",
              "\n",
              "    .dataframe tbody tr th {\n",
              "        vertical-align: top;\n",
              "    }\n",
              "\n",
              "    .dataframe thead th {\n",
              "        text-align: right;\n",
              "    }\n",
              "</style>\n",
              "<table border=\"1\" class=\"dataframe\">\n",
              "  <thead>\n",
              "    <tr style=\"text-align: right;\">\n",
              "      <th></th>\n",
              "      <th>交易月份</th>\n",
              "      <th>到期月份</th>\n",
              "      <th>收盤價</th>\n",
              "      <th>交易年分</th>\n",
              "      <th>到期年分</th>\n",
              "    </tr>\n",
              "  </thead>\n",
              "  <tbody>\n",
              "    <tr>\n",
              "      <th>0</th>\n",
              "      <td>7</td>\n",
              "      <td>9</td>\n",
              "      <td>2381.5</td>\n",
              "      <td>2018</td>\n",
              "      <td>2018</td>\n",
              "    </tr>\n",
              "    <tr>\n",
              "      <th>1</th>\n",
              "      <td>7</td>\n",
              "      <td>9</td>\n",
              "      <td>2377.0</td>\n",
              "      <td>2018</td>\n",
              "      <td>2018</td>\n",
              "    </tr>\n",
              "    <tr>\n",
              "      <th>2</th>\n",
              "      <td>7</td>\n",
              "      <td>9</td>\n",
              "      <td>2381.5</td>\n",
              "      <td>2018</td>\n",
              "      <td>2018</td>\n",
              "    </tr>\n",
              "    <tr>\n",
              "      <th>3</th>\n",
              "      <td>7</td>\n",
              "      <td>9</td>\n",
              "      <td>2369.5</td>\n",
              "      <td>2018</td>\n",
              "      <td>2018</td>\n",
              "    </tr>\n",
              "    <tr>\n",
              "      <th>4</th>\n",
              "      <td>7</td>\n",
              "      <td>9</td>\n",
              "      <td>2361.0</td>\n",
              "      <td>2018</td>\n",
              "      <td>2018</td>\n",
              "    </tr>\n",
              "    <tr>\n",
              "      <th>...</th>\n",
              "      <td>...</td>\n",
              "      <td>...</td>\n",
              "      <td>...</td>\n",
              "      <td>...</td>\n",
              "      <td>...</td>\n",
              "    </tr>\n",
              "    <tr>\n",
              "      <th>594</th>\n",
              "      <td>12</td>\n",
              "      <td>2</td>\n",
              "      <td>1384.0</td>\n",
              "      <td>2020</td>\n",
              "      <td>2021</td>\n",
              "    </tr>\n",
              "    <tr>\n",
              "      <th>595</th>\n",
              "      <td>12</td>\n",
              "      <td>2</td>\n",
              "      <td>1449.0</td>\n",
              "      <td>2020</td>\n",
              "      <td>2021</td>\n",
              "    </tr>\n",
              "    <tr>\n",
              "      <th>596</th>\n",
              "      <td>12</td>\n",
              "      <td>2</td>\n",
              "      <td>1427.5</td>\n",
              "      <td>2020</td>\n",
              "      <td>2021</td>\n",
              "    </tr>\n",
              "    <tr>\n",
              "      <th>597</th>\n",
              "      <td>12</td>\n",
              "      <td>2</td>\n",
              "      <td>1436.5</td>\n",
              "      <td>2020</td>\n",
              "      <td>2021</td>\n",
              "    </tr>\n",
              "    <tr>\n",
              "      <th>598</th>\n",
              "      <td>12</td>\n",
              "      <td>2</td>\n",
              "      <td>1444.0</td>\n",
              "      <td>2020</td>\n",
              "      <td>2021</td>\n",
              "    </tr>\n",
              "  </tbody>\n",
              "</table>\n",
              "<p>599 rows × 5 columns</p>\n",
              "</div>"
            ],
            "text/plain": [
              "     交易月份  到期月份     收盤價  交易年分  到期年分\n",
              "0       7     9  2381.5  2018  2018\n",
              "1       7     9  2377.0  2018  2018\n",
              "2       7     9  2381.5  2018  2018\n",
              "3       7     9  2369.5  2018  2018\n",
              "4       7     9  2361.0  2018  2018\n",
              "..    ...   ...     ...   ...   ...\n",
              "594    12     2  1384.0  2020  2021\n",
              "595    12     2  1449.0  2020  2021\n",
              "596    12     2  1427.5  2020  2021\n",
              "597    12     2  1436.5  2020  2021\n",
              "598    12     2  1444.0  2020  2021\n",
              "\n",
              "[599 rows x 5 columns]"
            ]
          },
          "metadata": {
            "tags": []
          },
          "execution_count": 187
        }
      ]
    },
    {
      "cell_type": "code",
      "metadata": {
        "id": "Lx8ZHl9eZCYh"
      },
      "source": [
        "#filter1 = df['交易月份']<=4"
      ],
      "execution_count": 155,
      "outputs": []
    },
    {
      "cell_type": "code",
      "metadata": {
        "id": "syjoEEoz8NDJ"
      },
      "source": [
        "#filter2 = df['交易年分']==2019"
      ],
      "execution_count": 156,
      "outputs": []
    },
    {
      "cell_type": "code",
      "metadata": {
        "id": "4Itm4akGZVRP"
      },
      "source": [
        "#x = df[filter1 & filter2]['收盤價']\n",
        "#x = df[filter2]['收盤價']"
      ],
      "execution_count": 157,
      "outputs": []
    },
    {
      "cell_type": "code",
      "metadata": {
        "colab": {
          "base_uri": "https://localhost:8080/",
          "height": 282
        },
        "id": "cpe-AJU4dZYo",
        "outputId": "8a0f61bc-d327-44d0-997d-9afc0fa2ae6d"
      },
      "source": [
        "#x.hist(bins=10,density=True)"
      ],
      "execution_count": 162,
      "outputs": [
        {
          "output_type": "execute_result",
          "data": {
            "text/plain": [
              "<matplotlib.axes._subplots.AxesSubplot at 0x7f3ce26611d0>"
            ]
          },
          "metadata": {
            "tags": []
          },
          "execution_count": 162
        },
        {
          "output_type": "display_data",
          "data": {
            "image/png": "[encoded data removed]",
            "text/plain": [
              "<Figure size 432x288 with 1 Axes>"
            ]
          },
          "metadata": {
            "tags": [],
            "needs_background": "light"
          }
        }
      ]
    },
    {
      "cell_type": "code",
      "metadata": {
        "id": "ayf8mDcAfW1P"
      },
      "source": [
        "y1 = df[df['交易年分']==2018]['收盤價']\n",
        "y2 = df[df['交易年分']==2019]['收盤價']\n",
        "y3 = df[df['交易年分']==2020]['收盤價']"
      ],
      "execution_count": 189,
      "outputs": []
    },
    {
      "cell_type": "code",
      "metadata": {
        "colab": {
          "base_uri": "https://localhost:8080/",
          "height": 336
        },
        "id": "c7VWHIog9p8J",
        "outputId": "1ad56ad7-5021-4f4a-c96e-14fd5985afaa"
      },
      "source": [
        "plt.hist([y1,y2,y3],bins=20,label=['2018','2019','2020'])\n",
        "plt.legend(loc='upper left')"
      ],
      "execution_count": 190,
      "outputs": [
        {
          "output_type": "stream",
          "text": [
            "/usr/local/lib/python3.7/dist-packages/numpy/core/_asarray.py:83: VisibleDeprecationWarning: Creating an ndarray from ragged nested sequences (which is a list-or-tuple of lists-or-tuples-or ndarrays with different lengths or shapes) is deprecated. If you meant to do this, you must specify 'dtype=object' when creating the ndarray\n",
            "  return array(a, dtype, copy=False, order=order)\n"
          ],
          "name": "stderr"
        },
        {
          "output_type": "execute_result",
          "data": {
            "text/plain": [
              "<matplotlib.legend.Legend at 0x7f3cdcf78bd0>"
            ]
          },
          "metadata": {
            "tags": []
          },
          "execution_count": 190
        },
        {
          "output_type": "display_data",
          "data": {
            "image/png": "[encoded data removed]",
            "text/plain": [
              "<Figure size 432x288 with 1 Axes>"
            ]
          },
          "metadata": {
            "tags": [],
            "needs_background": "light"
          }
        }
      ]
    },
    {
      "cell_type": "code",
      "metadata": {
        "id": "uef5ll6v-cI5"
      },
      "source": [
        "import statsmodels.stats.anova as anova\n",
        "from statsmodels.formula.api import ols"
      ],
      "execution_count": 81,
      "outputs": []
    },
    {
      "cell_type": "code",
      "metadata": {
        "colab": {
          "base_uri": "https://localhost:8080/"
        },
        "id": "hlBStK3NA09Z",
        "outputId": "e7d930b1-c986-4953-9656-3f946674f500"
      },
      "source": [
        "fu_df = pd.concat([y1,y2,y3],ignore_index=True)\n",
        "fu_df"
      ],
      "execution_count": 82,
      "outputs": [
        {
          "output_type": "execute_result",
          "data": {
            "text/plain": [
              "0      2381.5\n",
              "1      2377.0\n",
              "2      2381.5\n",
              "3      2369.5\n",
              "4      2361.0\n",
              "        ...  \n",
              "594    1384.0\n",
              "595    1449.0\n",
              "596    1427.5\n",
              "597    1436.5\n",
              "598    1444.0\n",
              "Name: 收盤價, Length: 599, dtype: float64"
            ]
          },
          "metadata": {
            "tags": []
          },
          "execution_count": 82
        }
      ]
    },
    {
      "cell_type": "code",
      "metadata": {
        "id": "D1gMuEwQCyvK"
      },
      "source": [
        "CPC_df = pd.read_excel(r\"/content/drive/MyDrive/Colab Notebooks/BRF_RawData/中油95_201807_202104.xlsx\")"
      ],
      "execution_count": 83,
      "outputs": []
    },
    {
      "cell_type": "code",
      "metadata": {
        "id": "hTaCaep6GR_L"
      },
      "source": [
        "CPC_df = CPC_df.iloc[:30]\n",
        "CPC_df = CPC_df['數值']"
      ],
      "execution_count": 84,
      "outputs": []
    },
    {
      "cell_type": "code",
      "metadata": {
        "id": "o8TPBepGGTIV"
      },
      "source": [
        "mon_df = pd.read_csv(r\"/content/drive/MyDrive/Colab Notebooks/BRF_RawData/中油月均價 - 工作表1.csv\")"
      ],
      "execution_count": 85,
      "outputs": []
    },
    {
      "cell_type": "code",
      "metadata": {
        "id": "j_h9KHwpIWCX"
      },
      "source": [
        "mon_df = mon_df['每公升價格']"
      ],
      "execution_count": 86,
      "outputs": []
    },
    {
      "cell_type": "code",
      "metadata": {
        "id": "eW7EpOQ_JUyO"
      },
      "source": [
        "df = pd.concat([mon_df.rename('BRF'),CPC_df.rename('CPC95')],axis=1,ignore_index=True)"
      ],
      "execution_count": 87,
      "outputs": []
    },
    {
      "cell_type": "code",
      "metadata": {
        "id": "iVLqzToGJXT1"
      },
      "source": [
        "df.columns=['BRF','CPC95']"
      ],
      "execution_count": 88,
      "outputs": []
    },
    {
      "cell_type": "code",
      "metadata": {
        "colab": {
          "base_uri": "https://localhost:8080/",
          "height": 282
        },
        "id": "aipytvj2Jojt",
        "outputId": "ebf4face-a172-484b-8a44-20f6731fc97b"
      },
      "source": [
        "df.plot()"
      ],
      "execution_count": 89,
      "outputs": [
        {
          "output_type": "execute_result",
          "data": {
            "text/plain": [
              "<matplotlib.axes._subplots.AxesSubplot at 0x7f3ce3102850>"
            ]
          },
          "metadata": {
            "tags": []
          },
          "execution_count": 89
        },
        {
          "output_type": "display_data",
          "data": {
            "image/png": "[encoded data removed]",
            "text/plain": [
              "<Figure size 432x288 with 1 Axes>"
            ]
          },
          "metadata": {
            "tags": [],
            "needs_background": "light"
          }
        }
      ]
    },
    {
      "cell_type": "markdown",
      "metadata": {
        "id": "4-zAk0z7fi3M"
      },
      "source": [
        "BRF跟中油95 (價格/公升)=>看起來趨勢一致\n"
      ]
    },
    {
      "cell_type": "code",
      "metadata": {
        "id": "gDrIz_NTNB6k"
      },
      "source": [
        "CPCf = df['CPC95']\n",
        "BRFf = df['BRF']"
      ],
      "execution_count": 90,
      "outputs": []
    },
    {
      "cell_type": "code",
      "metadata": {
        "id": "7uolLOgRNW9U"
      },
      "source": [
        "CPCf_log = np.log(CPCf)\n",
        "BRFf_log = np.log(BRFf) "
      ],
      "execution_count": 91,
      "outputs": []
    },
    {
      "cell_type": "code",
      "metadata": {
        "id": "NDZONx49Nk1E"
      },
      "source": [
        "adf_CPC = ADF(CPCf_log)\n",
        "adf_BRF = ADF(BRFf_log)"
      ],
      "execution_count": 92,
      "outputs": []
    },
    {
      "cell_type": "code",
      "metadata": {
        "colab": {
          "base_uri": "https://localhost:8080/"
        },
        "id": "tC789zxoN1f1",
        "outputId": "2f892b2b-2f29-4c23-9170-a8536deaca0f"
      },
      "source": [
        "print(adf_BRF.summary(),adf_CPC.summary())"
      ],
      "execution_count": 93,
      "outputs": [
        {
          "output_type": "stream",
          "text": [
            "   Augmented Dickey-Fuller Results   \n",
            "=====================================\n",
            "Test Statistic                 -1.481\n",
            "P-value                         0.543\n",
            "Lags                                2\n",
            "-------------------------------------\n",
            "\n",
            "Trend: Constant\n",
            "Critical Values: -3.70 (1%), -2.98 (5%), -2.63 (10%)\n",
            "Null Hypothesis: The process contains a unit root.\n",
            "Alternative Hypothesis: The process is weakly stationary.    Augmented Dickey-Fuller Results   \n",
            "=====================================\n",
            "Test Statistic                 -2.451\n",
            "P-value                         0.128\n",
            "Lags                                1\n",
            "-------------------------------------\n",
            "\n",
            "Trend: Constant\n",
            "Critical Values: -3.69 (1%), -2.97 (5%), -2.63 (10%)\n",
            "Null Hypothesis: The process contains a unit root.\n",
            "Alternative Hypothesis: The process is weakly stationary.\n"
          ],
          "name": "stdout"
        }
      ]
    },
    {
      "cell_type": "markdown",
      "metadata": {
        "id": "e29Jw5t5N52N"
      },
      "source": [
        "無法拒絕虛無假說=>存在單根=>兩者的對數價格皆為非定態，有一定的趨勢\n"
      ]
    },
    {
      "cell_type": "code",
      "metadata": {
        "id": "rp2gclx2QAE8"
      },
      "source": [
        "#要取[1:]是因為第一項不存在於前一項的差分，會變成NaN\n",
        "ret_CPC = CPCf_log.diff()[1:]\n",
        "ret_BRF = BRFf_log.diff()[1:]"
      ],
      "execution_count": 94,
      "outputs": []
    },
    {
      "cell_type": "code",
      "metadata": {
        "colab": {
          "base_uri": "https://localhost:8080/"
        },
        "id": "pQ0X30UhQvne",
        "outputId": "22fc9791-86e1-42cd-ad50-ce7450a5c6bc"
      },
      "source": [
        "adf_ret_CPC = ADF(ret_CPC)\n",
        "adf_ret_BRF = ADF(ret_BRF)\n",
        "print(adf_ret_BRF.summary(),adf_ret_CPC.summary())"
      ],
      "execution_count": 95,
      "outputs": [
        {
          "output_type": "stream",
          "text": [
            "   Augmented Dickey-Fuller Results   \n",
            "=====================================\n",
            "Test Statistic                 -4.776\n",
            "P-value                         0.000\n",
            "Lags                                1\n",
            "-------------------------------------\n",
            "\n",
            "Trend: Constant\n",
            "Critical Values: -3.70 (1%), -2.98 (5%), -2.63 (10%)\n",
            "Null Hypothesis: The process contains a unit root.\n",
            "Alternative Hypothesis: The process is weakly stationary.    Augmented Dickey-Fuller Results   \n",
            "=====================================\n",
            "Test Statistic                 -4.604\n",
            "P-value                         0.000\n",
            "Lags                                1\n",
            "-------------------------------------\n",
            "\n",
            "Trend: Constant\n",
            "Critical Values: -3.70 (1%), -2.98 (5%), -2.63 (10%)\n",
            "Null Hypothesis: The process contains a unit root.\n",
            "Alternative Hypothesis: The process is weakly stationary.\n"
          ],
          "name": "stdout"
        }
      ]
    },
    {
      "cell_type": "markdown",
      "metadata": {
        "id": "Y78pSzEshH78"
      },
      "source": [
        "拒絕虛無假說=>不存在單根=>兩者差分(收益率、一階整合序列)皆為定態"
      ]
    },
    {
      "cell_type": "code",
      "metadata": {
        "id": "3F2Ox20fRDO0",
        "colab": {
          "base_uri": "https://localhost:8080/",
          "height": 282
        },
        "outputId": "af877473-ed55-458d-cf45-49417d2eb8d3"
      },
      "source": [
        "ret_CPC.plot(label='CPC95',style='orange')\n",
        "ret_BRF.plot(label='BRF',style='blue')"
      ],
      "execution_count": 163,
      "outputs": [
        {
          "output_type": "execute_result",
          "data": {
            "text/plain": [
              "<matplotlib.axes._subplots.AxesSubplot at 0x7f3ce251ac50>"
            ]
          },
          "metadata": {
            "tags": []
          },
          "execution_count": 163
        },
        {
          "output_type": "display_data",
          "data": {
            "image/png": "[encoded data removed]",
            "text/plain": [
              "<Figure size 432x288 with 1 Axes>"
            ]
          },
          "metadata": {
            "tags": [],
            "needs_background": "light"
          }
        }
      ]
    },
    {
      "cell_type": "markdown",
      "metadata": {
        "id": "jjlSOlL5HltZ"
      },
      "source": [
        "# 跑迴歸\n",
        "在了解對數價格的差分序列是定態後，再來看是否存在共整合\n",
        "=>看兩者對數價格差是否為定態\n"
      ]
    },
    {
      "cell_type": "markdown",
      "metadata": {
        "id": "Zaf5PfqJIG3o"
      },
      "source": [
        "$log(P^Y_{t}) = \\alpha +\\beta \\space log(P^X_{t})+\\varepsilon_{t}$\n",
        "\n",
        "$\\rightarrow \\varepsilon_{t} = log(P^Y_{t})-\\alpha +\\beta \\space log(P^X_{t}) $\n",
        "\n",
        "檢定一下$\\varepsilon_{t}$是否為定態"
      ]
    },
    {
      "cell_type": "code",
      "metadata": {
        "id": "tdNguw2-ItDv"
      },
      "source": [
        "import statsmodels.api as sm"
      ],
      "execution_count": 164,
      "outputs": []
    },
    {
      "cell_type": "code",
      "metadata": {
        "colab": {
          "base_uri": "https://localhost:8080/"
        },
        "id": "-WIYtQ9wJxPQ",
        "outputId": "9a0e2562-4153-42dc-df68-580e508454dd"
      },
      "source": [
        "model =sm.OLS(CPCf_log,sm.add_constant(BRFf_log))\n",
        "result = model.fit()\n",
        "print(result.summary())"
      ],
      "execution_count": 167,
      "outputs": [
        {
          "output_type": "stream",
          "text": [
            "                            OLS Regression Results                            \n",
            "==============================================================================\n",
            "Dep. Variable:                  CPC95   R-squared:                       0.954\n",
            "Model:                            OLS   Adj. R-squared:                  0.952\n",
            "Method:                 Least Squares   F-statistic:                     574.5\n",
            "Date:                Sat, 08 May 2021   Prob (F-statistic):           3.35e-20\n",
            "Time:                        08:48:40   Log-Likelihood:                 63.074\n",
            "No. Observations:                  30   AIC:                            -122.1\n",
            "Df Residuals:                      28   BIC:                            -119.3\n",
            "Df Model:                           1                                         \n",
            "Covariance Type:            nonrobust                                         \n",
            "==============================================================================\n",
            "                 coef    std err          t      P>|t|      [0.025      0.975]\n",
            "------------------------------------------------------------------------------\n",
            "const          2.1983      0.045     48.438      0.000       2.105       2.291\n",
            "BRF            0.4580      0.019     23.969      0.000       0.419       0.497\n",
            "==============================================================================\n",
            "Omnibus:                       10.044   Durbin-Watson:                   1.124\n",
            "Prob(Omnibus):                  0.007   Jarque-Bera (JB):                8.591\n",
            "Skew:                          -1.166   Prob(JB):                       0.0136\n",
            "Kurtosis:                       4.199   Cond. No.                         22.7\n",
            "==============================================================================\n",
            "\n",
            "Warnings:\n",
            "[1] Standard Errors assume that the covariance matrix of the errors is correctly specified.\n"
          ],
          "name": "stdout"
        }
      ]
    },
    {
      "cell_type": "code",
      "metadata": {
        "colab": {
          "base_uri": "https://localhost:8080/"
        },
        "id": "Msu7-HyEKiGX",
        "outputId": "f6df0bc6-a00b-4c1a-d60e-5f3a65e49f33"
      },
      "source": [
        "alpha,beta = result.params\n",
        "alpha,beta"
      ],
      "execution_count": 170,
      "outputs": [
        {
          "output_type": "execute_result",
          "data": {
            "text/plain": [
              "(2.1983454451516833, 0.4579678324923272)"
            ]
          },
          "metadata": {
            "tags": []
          },
          "execution_count": 170
        }
      ]
    },
    {
      "cell_type": "code",
      "metadata": {
        "id": "FZFvauJPKp-X"
      },
      "source": [
        "spread = CPCf_log -beta*BRFf_log - alpha"
      ],
      "execution_count": 172,
      "outputs": []
    },
    {
      "cell_type": "code",
      "metadata": {
        "colab": {
          "base_uri": "https://localhost:8080/",
          "height": 282
        },
        "id": "ox4i6yrdK3zH",
        "outputId": "084aa9e3-0e9a-48b9-a5bb-7c573a96b9f5"
      },
      "source": [
        "spread.plot()"
      ],
      "execution_count": 175,
      "outputs": [
        {
          "output_type": "execute_result",
          "data": {
            "text/plain": [
              "<matplotlib.axes._subplots.AxesSubplot at 0x7f3cdd277d50>"
            ]
          },
          "metadata": {
            "tags": []
          },
          "execution_count": 175
        },
        {
          "output_type": "display_data",
          "data": {
            "image/png": "[encoded data removed]",
            "text/plain": [
              "<Figure size 432x288 with 1 Axes>"
            ]
          },
          "metadata": {
            "tags": [],
            "needs_background": "light"
          }
        }
      ]
    },
    {
      "cell_type": "code",
      "metadata": {
        "colab": {
          "base_uri": "https://localhost:8080/"
        },
        "id": "OGVQGKJsK-pp",
        "outputId": "c4927fa0-e74c-46dd-b05f-2f9cbc5ad27f"
      },
      "source": [
        "adfSpread = ADF(spread,trend='nc')\n",
        "print(adfSpread.summary())"
      ],
      "execution_count": 177,
      "outputs": [
        {
          "output_type": "stream",
          "text": [
            "   Augmented Dickey-Fuller Results   \n",
            "=====================================\n",
            "Test Statistic                 -3.194\n",
            "P-value                         0.001\n",
            "Lags                                0\n",
            "-------------------------------------\n",
            "\n",
            "Trend: No Trend\n",
            "Critical Values: -2.65 (1%), -1.95 (5%), -1.61 (10%)\n",
            "Null Hypothesis: The process contains a unit root.\n",
            "Alternative Hypothesis: The process is weakly stationary.\n"
          ],
          "name": "stdout"
        },
        {
          "output_type": "stream",
          "text": [
            "/usr/local/lib/python3.7/dist-packages/arch/unitroot/unitroot.py:470: FutureWarning: Trend \"nc\" is deprecated and has been replaced with \"n\" (for none).\n",
            "  FutureWarning,\n"
          ],
          "name": "stderr"
        }
      ]
    },
    {
      "cell_type": "markdown",
      "metadata": {
        "id": "dEOvHT99KEQv"
      },
      "source": [
        "拒絕虛無假說=>對數價格差存在定態，有共整合\n"
      ]
    },
    {
      "cell_type": "code",
      "metadata": {
        "id": "5shidTUOO--2"
      },
      "source": [
        ""
      ],
      "execution_count": null,
      "outputs": []
    }
  ]
}